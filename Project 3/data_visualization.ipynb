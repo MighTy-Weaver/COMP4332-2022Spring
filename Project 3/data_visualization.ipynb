{
 "cells": [
  {
   "cell_type": "code",
   "execution_count": 1,
   "outputs": [],
   "source": [
    "import pandas as pd"
   ],
   "metadata": {
    "collapsed": false,
    "pycharm": {
     "name": "#%%\n"
    }
   }
  },
  {
   "cell_type": "code",
   "execution_count": 2,
   "outputs": [],
   "source": [
    "user=pd.read_csv('./data/user.csv')"
   ],
   "metadata": {
    "collapsed": false,
    "pycharm": {
     "name": "#%%\n"
    }
   }
  },
  {
   "cell_type": "code",
   "execution_count": 3,
   "outputs": [
    {
     "data": {
      "text/plain": "      Unnamed: 0                           user_id         name  review_count  \\\n0              0  f04e1b175716b9ff46f0f58d14f65cbe        Karen            85   \n1              1  9de9e40b3727c667a5b7c1664aa59a5b        Bobby           376   \n2              2  41a23c92933408a7fd98abed3d3d0071      Michele           244   \n3              3  1e8b87bf395e036ba5eff80e8b47d509  Christopher           267   \n4              4  344c541cfca0e120924456e8c8cfd468       Lamiya            55   \n...          ...                               ...          ...           ...   \n2975        2975  bf35ec4f129ed84d312ecbf271bb3351      Rebecca            56   \n2976        2976  d2c81177bfb08e7209d714e711f5c4c3      Michael            63   \n2977        2977  85339f5231ab001eb302ff2254fd29e5      Cynthia            54   \n2978        2978  7eb178d152614644cf155a5dbae25bf8          Iso            30   \n2979        2979  70504b0537b14048d5058852dc90fdb7          Val           480   \n\n            yelping_since  useful  funny  cool                          elite  \\\n0     2008-07-13 17:51:38      63     25    45                      2017,2018   \n1     2010-03-10 23:55:33    1754   1036  1124  2013,2014,2015,2016,2017,2018   \n2     2011-02-01 01:29:47     435     76   145                            NaN   \n3     2011-05-18 23:00:16    1438    767  1157  2013,2014,2015,2016,2017,2018   \n4     2012-05-05 19:02:11      71     31    52                            NaN   \n...                   ...     ...    ...   ...                            ...   \n2975  2011-09-16 19:43:10      23      2    19                            NaN   \n2976  2007-07-04 14:56:01     140     59    28                            NaN   \n2977  2011-07-01 00:39:55      22      9     6                            NaN   \n2978  2016-01-27 22:17:08      19      7     3                            NaN   \n2979  2008-06-21 04:09:41     684    256   273            2015,2016,2017,2018   \n\n      fans  ...  compliment_more  compliment_profile  compliment_cute  \\\n0        4  ...                0                   0                0   \n1       39  ...                6                   2                2   \n2       23  ...                5                   0                1   \n3       49  ...                8                   2                0   \n4        2  ...                0                   0                0   \n...    ...  ...              ...                 ...              ...   \n2975     7  ...                0                   1                0   \n2976     1  ...                1                   0                0   \n2977     1  ...                0                   0                0   \n2978     0  ...                1                   0                0   \n2979    25  ...                1                   1                0   \n\n      compliment_list  compliment_note  compliment_plain  compliment_cool  \\\n0                   0                1                 3                1   \n1                   1               38                77              106   \n2                   0                4                13               13   \n3                   0               39                71              146   \n4                   0                0                 3                1   \n...               ...              ...               ...              ...   \n2975                0                1                 1                0   \n2976                0                5                 1                0   \n2977                0                0                 0                0   \n2978                0                0                 0                0   \n2979                0                8                16               13   \n\n      compliment_funny  compliment_writer  compliment_photos  \n0                    1                  3                  0  \n1                  106                 52                  3  \n2                   13                  9                  6  \n3                  146                107                  3  \n4                    1                  0                  0  \n...                ...                ...                ...  \n2975                 0                  0                  0  \n2976                 0                  0                  0  \n2977                 0                  0                  0  \n2978                 0                  0                  0  \n2979                13                  6                  2  \n\n[2980 rows x 22 columns]",
      "text/html": "<div>\n<style scoped>\n    .dataframe tbody tr th:only-of-type {\n        vertical-align: middle;\n    }\n\n    .dataframe tbody tr th {\n        vertical-align: top;\n    }\n\n    .dataframe thead th {\n        text-align: right;\n    }\n</style>\n<table border=\"1\" class=\"dataframe\">\n  <thead>\n    <tr style=\"text-align: right;\">\n      <th></th>\n      <th>Unnamed: 0</th>\n      <th>user_id</th>\n      <th>name</th>\n      <th>review_count</th>\n      <th>yelping_since</th>\n      <th>useful</th>\n      <th>funny</th>\n      <th>cool</th>\n      <th>elite</th>\n      <th>fans</th>\n      <th>...</th>\n      <th>compliment_more</th>\n      <th>compliment_profile</th>\n      <th>compliment_cute</th>\n      <th>compliment_list</th>\n      <th>compliment_note</th>\n      <th>compliment_plain</th>\n      <th>compliment_cool</th>\n      <th>compliment_funny</th>\n      <th>compliment_writer</th>\n      <th>compliment_photos</th>\n    </tr>\n  </thead>\n  <tbody>\n    <tr>\n      <th>0</th>\n      <td>0</td>\n      <td>f04e1b175716b9ff46f0f58d14f65cbe</td>\n      <td>Karen</td>\n      <td>85</td>\n      <td>2008-07-13 17:51:38</td>\n      <td>63</td>\n      <td>25</td>\n      <td>45</td>\n      <td>2017,2018</td>\n      <td>4</td>\n      <td>...</td>\n      <td>0</td>\n      <td>0</td>\n      <td>0</td>\n      <td>0</td>\n      <td>1</td>\n      <td>3</td>\n      <td>1</td>\n      <td>1</td>\n      <td>3</td>\n      <td>0</td>\n    </tr>\n    <tr>\n      <th>1</th>\n      <td>1</td>\n      <td>9de9e40b3727c667a5b7c1664aa59a5b</td>\n      <td>Bobby</td>\n      <td>376</td>\n      <td>2010-03-10 23:55:33</td>\n      <td>1754</td>\n      <td>1036</td>\n      <td>1124</td>\n      <td>2013,2014,2015,2016,2017,2018</td>\n      <td>39</td>\n      <td>...</td>\n      <td>6</td>\n      <td>2</td>\n      <td>2</td>\n      <td>1</td>\n      <td>38</td>\n      <td>77</td>\n      <td>106</td>\n      <td>106</td>\n      <td>52</td>\n      <td>3</td>\n    </tr>\n    <tr>\n      <th>2</th>\n      <td>2</td>\n      <td>41a23c92933408a7fd98abed3d3d0071</td>\n      <td>Michele</td>\n      <td>244</td>\n      <td>2011-02-01 01:29:47</td>\n      <td>435</td>\n      <td>76</td>\n      <td>145</td>\n      <td>NaN</td>\n      <td>23</td>\n      <td>...</td>\n      <td>5</td>\n      <td>0</td>\n      <td>1</td>\n      <td>0</td>\n      <td>4</td>\n      <td>13</td>\n      <td>13</td>\n      <td>13</td>\n      <td>9</td>\n      <td>6</td>\n    </tr>\n    <tr>\n      <th>3</th>\n      <td>3</td>\n      <td>1e8b87bf395e036ba5eff80e8b47d509</td>\n      <td>Christopher</td>\n      <td>267</td>\n      <td>2011-05-18 23:00:16</td>\n      <td>1438</td>\n      <td>767</td>\n      <td>1157</td>\n      <td>2013,2014,2015,2016,2017,2018</td>\n      <td>49</td>\n      <td>...</td>\n      <td>8</td>\n      <td>2</td>\n      <td>0</td>\n      <td>0</td>\n      <td>39</td>\n      <td>71</td>\n      <td>146</td>\n      <td>146</td>\n      <td>107</td>\n      <td>3</td>\n    </tr>\n    <tr>\n      <th>4</th>\n      <td>4</td>\n      <td>344c541cfca0e120924456e8c8cfd468</td>\n      <td>Lamiya</td>\n      <td>55</td>\n      <td>2012-05-05 19:02:11</td>\n      <td>71</td>\n      <td>31</td>\n      <td>52</td>\n      <td>NaN</td>\n      <td>2</td>\n      <td>...</td>\n      <td>0</td>\n      <td>0</td>\n      <td>0</td>\n      <td>0</td>\n      <td>0</td>\n      <td>3</td>\n      <td>1</td>\n      <td>1</td>\n      <td>0</td>\n      <td>0</td>\n    </tr>\n    <tr>\n      <th>...</th>\n      <td>...</td>\n      <td>...</td>\n      <td>...</td>\n      <td>...</td>\n      <td>...</td>\n      <td>...</td>\n      <td>...</td>\n      <td>...</td>\n      <td>...</td>\n      <td>...</td>\n      <td>...</td>\n      <td>...</td>\n      <td>...</td>\n      <td>...</td>\n      <td>...</td>\n      <td>...</td>\n      <td>...</td>\n      <td>...</td>\n      <td>...</td>\n      <td>...</td>\n      <td>...</td>\n    </tr>\n    <tr>\n      <th>2975</th>\n      <td>2975</td>\n      <td>bf35ec4f129ed84d312ecbf271bb3351</td>\n      <td>Rebecca</td>\n      <td>56</td>\n      <td>2011-09-16 19:43:10</td>\n      <td>23</td>\n      <td>2</td>\n      <td>19</td>\n      <td>NaN</td>\n      <td>7</td>\n      <td>...</td>\n      <td>0</td>\n      <td>1</td>\n      <td>0</td>\n      <td>0</td>\n      <td>1</td>\n      <td>1</td>\n      <td>0</td>\n      <td>0</td>\n      <td>0</td>\n      <td>0</td>\n    </tr>\n    <tr>\n      <th>2976</th>\n      <td>2976</td>\n      <td>d2c81177bfb08e7209d714e711f5c4c3</td>\n      <td>Michael</td>\n      <td>63</td>\n      <td>2007-07-04 14:56:01</td>\n      <td>140</td>\n      <td>59</td>\n      <td>28</td>\n      <td>NaN</td>\n      <td>1</td>\n      <td>...</td>\n      <td>1</td>\n      <td>0</td>\n      <td>0</td>\n      <td>0</td>\n      <td>5</td>\n      <td>1</td>\n      <td>0</td>\n      <td>0</td>\n      <td>0</td>\n      <td>0</td>\n    </tr>\n    <tr>\n      <th>2977</th>\n      <td>2977</td>\n      <td>85339f5231ab001eb302ff2254fd29e5</td>\n      <td>Cynthia</td>\n      <td>54</td>\n      <td>2011-07-01 00:39:55</td>\n      <td>22</td>\n      <td>9</td>\n      <td>6</td>\n      <td>NaN</td>\n      <td>1</td>\n      <td>...</td>\n      <td>0</td>\n      <td>0</td>\n      <td>0</td>\n      <td>0</td>\n      <td>0</td>\n      <td>0</td>\n      <td>0</td>\n      <td>0</td>\n      <td>0</td>\n      <td>0</td>\n    </tr>\n    <tr>\n      <th>2978</th>\n      <td>2978</td>\n      <td>7eb178d152614644cf155a5dbae25bf8</td>\n      <td>Iso</td>\n      <td>30</td>\n      <td>2016-01-27 22:17:08</td>\n      <td>19</td>\n      <td>7</td>\n      <td>3</td>\n      <td>NaN</td>\n      <td>0</td>\n      <td>...</td>\n      <td>1</td>\n      <td>0</td>\n      <td>0</td>\n      <td>0</td>\n      <td>0</td>\n      <td>0</td>\n      <td>0</td>\n      <td>0</td>\n      <td>0</td>\n      <td>0</td>\n    </tr>\n    <tr>\n      <th>2979</th>\n      <td>2979</td>\n      <td>70504b0537b14048d5058852dc90fdb7</td>\n      <td>Val</td>\n      <td>480</td>\n      <td>2008-06-21 04:09:41</td>\n      <td>684</td>\n      <td>256</td>\n      <td>273</td>\n      <td>2015,2016,2017,2018</td>\n      <td>25</td>\n      <td>...</td>\n      <td>1</td>\n      <td>1</td>\n      <td>0</td>\n      <td>0</td>\n      <td>8</td>\n      <td>16</td>\n      <td>13</td>\n      <td>13</td>\n      <td>6</td>\n      <td>2</td>\n    </tr>\n  </tbody>\n</table>\n<p>2980 rows × 22 columns</p>\n</div>"
     },
     "execution_count": 3,
     "metadata": {},
     "output_type": "execute_result"
    }
   ],
   "source": [
    "user"
   ],
   "metadata": {
    "collapsed": false,
    "pycharm": {
     "name": "#%%\n"
    }
   }
  },
  {
   "cell_type": "code",
   "execution_count": 4,
   "outputs": [],
   "source": [
    "business=pd.read_csv('./data/business.csv')"
   ],
   "metadata": {
    "collapsed": false,
    "pycharm": {
     "name": "#%%\n"
    }
   }
  },
  {
   "cell_type": "code",
   "execution_count": 5,
   "outputs": [
    {
     "data": {
      "text/plain": "      Unnamed: 0                       business_id  \\\n0              0  de9d8b06461fa8193081e69d4e3ae345   \n1              1  334a85d83ec4545b5b2b4581e5182c47   \n2              2  d39623cbcc490dff7ec1036a4f43a337   \n3              3  218d525e3a7223a9e2265c2ea481116d   \n4              4  d5062bde99f4003b7b7ef546c16cf0cc   \n...          ...                               ...   \n5959        5959  bfa5e2aab6f787e190082cf76e748203   \n5960        5960  bf46e96044d23cccab27cf4534af2add   \n5961        5961  921ae754074c121b7aa9523ca7e8b7cd   \n5962        5962  8e350f4ad2441016656c1a5bcf023190   \n5963        5963  af0def644bc2376ec11448798fe7baa7   \n\n                                               name  \\\n0                                            Apteka   \n1                      Nee House Chinese Restaurant   \n2                                        Vintage 95   \n3                                            Served   \n4                          JJ's Red Hots - Dilworth   \n...                                             ...   \n5959                          Naked City Pizza Shop   \n5960                          Pomo Pizzeria Gilbert   \n5961                            Greens and Proteins   \n5962                               Jessie Rae's BBQ   \n5963  JW Marriott Phoenix Desert Ridge Resort & Spa   \n\n                            address        city state postal_code   latitude  \\\n0                     4606 Penn Ave  Pittsburgh    PA       15224  40.465694   \n1        13843 N Tatum Blvd, Ste 15     Phoenix    AZ       85032  33.613020   \n2                       95 W Boston    Chandler    AZ       85225  33.302093   \n3     1770 W Horizon Ridge, Ste 100   Henderson    NV       89012  36.010745   \n4                    1514 East Blvd   Charlotte    NC       28203  35.199798   \n...                             ...         ...   ...         ...        ...   \n5959              3240 S Arville St   Las Vegas    NV       89102  36.130804   \n5960      366 N Gilbert Rd, Ste 106     Gilbert    AZ       85234  33.356542   \n5961     8975 S Eastern Ave, Ste 3C   Las Vegas    NV       89123  36.026212   \n5962        5611 S Valley View Blvd   Las Vegas    NV       89118  36.087895   \n5963             5350 E Marriott Dr     Phoenix    AZ       85054  33.683910   \n\n       longitude  stars  review_count  is_open  \\\n0     -79.949324    4.5           242        1   \n1    -111.977036    3.5           269        1   \n2    -111.842613    4.0           320        0   \n3    -115.064803    4.5           664        1   \n4     -80.842295    4.0           380        1   \n...          ...    ...           ...      ...   \n5959 -115.198971    4.0           576        1   \n5960 -111.790019    4.0           337        1   \n5961 -115.119341    4.0           704        1   \n5962 -115.190329    4.5           595        1   \n5963 -111.966235    4.0           441        1   \n\n                                             attributes  \\\n0     {'CoatCheck': 'False', 'BusinessParking': \"{'g...   \n1     {'Caters': 'True', 'GoodForKids': 'True', 'Noi...   \n2     {'OutdoorSeating': 'True', 'HasTV': 'True', 'N...   \n3     {'DriveThru': 'False', 'RestaurantsAttire': \"'...   \n4     {'RestaurantsReservations': 'True', 'BusinessA...   \n...                                                 ...   \n5959  {'BusinessParking': \"{'garage': False, 'street...   \n5960  {'WheelchairAccessible': 'True', 'WiFi': \"u'fr...   \n5961  {'Alcohol': \"u'none'\", 'BusinessParking': \"{'g...   \n5962  {'Caters': 'True', 'RestaurantsTableService': ...   \n5963  {'BusinessAcceptsBitcoin': 'False', 'GoodForKi...   \n\n                                             categories  \\\n0     Nightlife, Bars, Polish, Modern European, Rest...   \n1                                  Chinese, Restaurants   \n2     American (New), Bars, Wine Bars, Nightlife, Re...   \n3     Ethnic Food, American (New), Burgers, Food, Re...   \n4     Caterers, Hot Dogs, Restaurants, Vegetarian, A...   \n...                                                 ...   \n5959  Sandwiches, Pizza, Chicken Wings, Italian, Res...   \n5960                        Restaurants, Italian, Pizza   \n5961  Sandwiches, Cafes, Pizza, Vegetarian, Gluten-F...   \n5962  Farmers Market, Caterers, Food, Street Vendors...   \n5963  Golf, Hotels, Day Spas, Hotels & Travel, Event...   \n\n                                                  hours  \n0     {'Wednesday': '17:0-0:0', 'Thursday': '17:0-0:...  \n1     {'Monday': '11:0-21:0', 'Tuesday': '11:0-21:0'...  \n2     {'Monday': '11:0-22:0', 'Tuesday': '11:0-22:0'...  \n3     {'Monday': '0:0-0:0', 'Tuesday': '9:0-15:0', '...  \n4     {'Monday': '11:0-21:0', 'Tuesday': '11:0-21:0'...  \n...                                                 ...  \n5959  {'Monday': '12:0-21:0', 'Tuesday': '12:0-21:0'...  \n5960  {'Monday': '0:0-0:0', 'Tuesday': '11:0-22:0', ...  \n5961  {'Monday': '9:30-19:30', 'Tuesday': '7:0-22:0'...  \n5962  {'Monday': '0:0-0:0', 'Tuesday': '11:30-20:30'...  \n5963  {'Monday': '0:0-0:0', 'Tuesday': '0:0-0:0', 'W...  \n\n[5964 rows x 15 columns]",
      "text/html": "<div>\n<style scoped>\n    .dataframe tbody tr th:only-of-type {\n        vertical-align: middle;\n    }\n\n    .dataframe tbody tr th {\n        vertical-align: top;\n    }\n\n    .dataframe thead th {\n        text-align: right;\n    }\n</style>\n<table border=\"1\" class=\"dataframe\">\n  <thead>\n    <tr style=\"text-align: right;\">\n      <th></th>\n      <th>Unnamed: 0</th>\n      <th>business_id</th>\n      <th>name</th>\n      <th>address</th>\n      <th>city</th>\n      <th>state</th>\n      <th>postal_code</th>\n      <th>latitude</th>\n      <th>longitude</th>\n      <th>stars</th>\n      <th>review_count</th>\n      <th>is_open</th>\n      <th>attributes</th>\n      <th>categories</th>\n      <th>hours</th>\n    </tr>\n  </thead>\n  <tbody>\n    <tr>\n      <th>0</th>\n      <td>0</td>\n      <td>de9d8b06461fa8193081e69d4e3ae345</td>\n      <td>Apteka</td>\n      <td>4606 Penn Ave</td>\n      <td>Pittsburgh</td>\n      <td>PA</td>\n      <td>15224</td>\n      <td>40.465694</td>\n      <td>-79.949324</td>\n      <td>4.5</td>\n      <td>242</td>\n      <td>1</td>\n      <td>{'CoatCheck': 'False', 'BusinessParking': \"{'g...</td>\n      <td>Nightlife, Bars, Polish, Modern European, Rest...</td>\n      <td>{'Wednesday': '17:0-0:0', 'Thursday': '17:0-0:...</td>\n    </tr>\n    <tr>\n      <th>1</th>\n      <td>1</td>\n      <td>334a85d83ec4545b5b2b4581e5182c47</td>\n      <td>Nee House Chinese Restaurant</td>\n      <td>13843 N Tatum Blvd, Ste 15</td>\n      <td>Phoenix</td>\n      <td>AZ</td>\n      <td>85032</td>\n      <td>33.613020</td>\n      <td>-111.977036</td>\n      <td>3.5</td>\n      <td>269</td>\n      <td>1</td>\n      <td>{'Caters': 'True', 'GoodForKids': 'True', 'Noi...</td>\n      <td>Chinese, Restaurants</td>\n      <td>{'Monday': '11:0-21:0', 'Tuesday': '11:0-21:0'...</td>\n    </tr>\n    <tr>\n      <th>2</th>\n      <td>2</td>\n      <td>d39623cbcc490dff7ec1036a4f43a337</td>\n      <td>Vintage 95</td>\n      <td>95 W Boston</td>\n      <td>Chandler</td>\n      <td>AZ</td>\n      <td>85225</td>\n      <td>33.302093</td>\n      <td>-111.842613</td>\n      <td>4.0</td>\n      <td>320</td>\n      <td>0</td>\n      <td>{'OutdoorSeating': 'True', 'HasTV': 'True', 'N...</td>\n      <td>American (New), Bars, Wine Bars, Nightlife, Re...</td>\n      <td>{'Monday': '11:0-22:0', 'Tuesday': '11:0-22:0'...</td>\n    </tr>\n    <tr>\n      <th>3</th>\n      <td>3</td>\n      <td>218d525e3a7223a9e2265c2ea481116d</td>\n      <td>Served</td>\n      <td>1770 W Horizon Ridge, Ste 100</td>\n      <td>Henderson</td>\n      <td>NV</td>\n      <td>89012</td>\n      <td>36.010745</td>\n      <td>-115.064803</td>\n      <td>4.5</td>\n      <td>664</td>\n      <td>1</td>\n      <td>{'DriveThru': 'False', 'RestaurantsAttire': \"'...</td>\n      <td>Ethnic Food, American (New), Burgers, Food, Re...</td>\n      <td>{'Monday': '0:0-0:0', 'Tuesday': '9:0-15:0', '...</td>\n    </tr>\n    <tr>\n      <th>4</th>\n      <td>4</td>\n      <td>d5062bde99f4003b7b7ef546c16cf0cc</td>\n      <td>JJ's Red Hots - Dilworth</td>\n      <td>1514 East Blvd</td>\n      <td>Charlotte</td>\n      <td>NC</td>\n      <td>28203</td>\n      <td>35.199798</td>\n      <td>-80.842295</td>\n      <td>4.0</td>\n      <td>380</td>\n      <td>1</td>\n      <td>{'RestaurantsReservations': 'True', 'BusinessA...</td>\n      <td>Caterers, Hot Dogs, Restaurants, Vegetarian, A...</td>\n      <td>{'Monday': '11:0-21:0', 'Tuesday': '11:0-21:0'...</td>\n    </tr>\n    <tr>\n      <th>...</th>\n      <td>...</td>\n      <td>...</td>\n      <td>...</td>\n      <td>...</td>\n      <td>...</td>\n      <td>...</td>\n      <td>...</td>\n      <td>...</td>\n      <td>...</td>\n      <td>...</td>\n      <td>...</td>\n      <td>...</td>\n      <td>...</td>\n      <td>...</td>\n      <td>...</td>\n    </tr>\n    <tr>\n      <th>5959</th>\n      <td>5959</td>\n      <td>bfa5e2aab6f787e190082cf76e748203</td>\n      <td>Naked City Pizza Shop</td>\n      <td>3240 S Arville St</td>\n      <td>Las Vegas</td>\n      <td>NV</td>\n      <td>89102</td>\n      <td>36.130804</td>\n      <td>-115.198971</td>\n      <td>4.0</td>\n      <td>576</td>\n      <td>1</td>\n      <td>{'BusinessParking': \"{'garage': False, 'street...</td>\n      <td>Sandwiches, Pizza, Chicken Wings, Italian, Res...</td>\n      <td>{'Monday': '12:0-21:0', 'Tuesday': '12:0-21:0'...</td>\n    </tr>\n    <tr>\n      <th>5960</th>\n      <td>5960</td>\n      <td>bf46e96044d23cccab27cf4534af2add</td>\n      <td>Pomo Pizzeria Gilbert</td>\n      <td>366 N Gilbert Rd, Ste 106</td>\n      <td>Gilbert</td>\n      <td>AZ</td>\n      <td>85234</td>\n      <td>33.356542</td>\n      <td>-111.790019</td>\n      <td>4.0</td>\n      <td>337</td>\n      <td>1</td>\n      <td>{'WheelchairAccessible': 'True', 'WiFi': \"u'fr...</td>\n      <td>Restaurants, Italian, Pizza</td>\n      <td>{'Monday': '0:0-0:0', 'Tuesday': '11:0-22:0', ...</td>\n    </tr>\n    <tr>\n      <th>5961</th>\n      <td>5961</td>\n      <td>921ae754074c121b7aa9523ca7e8b7cd</td>\n      <td>Greens and Proteins</td>\n      <td>8975 S Eastern Ave, Ste 3C</td>\n      <td>Las Vegas</td>\n      <td>NV</td>\n      <td>89123</td>\n      <td>36.026212</td>\n      <td>-115.119341</td>\n      <td>4.0</td>\n      <td>704</td>\n      <td>1</td>\n      <td>{'Alcohol': \"u'none'\", 'BusinessParking': \"{'g...</td>\n      <td>Sandwiches, Cafes, Pizza, Vegetarian, Gluten-F...</td>\n      <td>{'Monday': '9:30-19:30', 'Tuesday': '7:0-22:0'...</td>\n    </tr>\n    <tr>\n      <th>5962</th>\n      <td>5962</td>\n      <td>8e350f4ad2441016656c1a5bcf023190</td>\n      <td>Jessie Rae's BBQ</td>\n      <td>5611 S Valley View Blvd</td>\n      <td>Las Vegas</td>\n      <td>NV</td>\n      <td>89118</td>\n      <td>36.087895</td>\n      <td>-115.190329</td>\n      <td>4.5</td>\n      <td>595</td>\n      <td>1</td>\n      <td>{'Caters': 'True', 'RestaurantsTableService': ...</td>\n      <td>Farmers Market, Caterers, Food, Street Vendors...</td>\n      <td>{'Monday': '0:0-0:0', 'Tuesday': '11:30-20:30'...</td>\n    </tr>\n    <tr>\n      <th>5963</th>\n      <td>5963</td>\n      <td>af0def644bc2376ec11448798fe7baa7</td>\n      <td>JW Marriott Phoenix Desert Ridge Resort &amp; Spa</td>\n      <td>5350 E Marriott Dr</td>\n      <td>Phoenix</td>\n      <td>AZ</td>\n      <td>85054</td>\n      <td>33.683910</td>\n      <td>-111.966235</td>\n      <td>4.0</td>\n      <td>441</td>\n      <td>1</td>\n      <td>{'BusinessAcceptsBitcoin': 'False', 'GoodForKi...</td>\n      <td>Golf, Hotels, Day Spas, Hotels &amp; Travel, Event...</td>\n      <td>{'Monday': '0:0-0:0', 'Tuesday': '0:0-0:0', 'W...</td>\n    </tr>\n  </tbody>\n</table>\n<p>5964 rows × 15 columns</p>\n</div>"
     },
     "execution_count": 5,
     "metadata": {},
     "output_type": "execute_result"
    }
   ],
   "source": [
    "business"
   ],
   "metadata": {
    "collapsed": false,
    "pycharm": {
     "name": "#%%\n"
    }
   }
  },
  {
   "cell_type": "code",
   "execution_count": null,
   "outputs": [],
   "source": [],
   "metadata": {
    "collapsed": false,
    "pycharm": {
     "name": "#%%\n"
    }
   }
  }
 ],
 "metadata": {
  "kernelspec": {
   "display_name": "Python 3",
   "language": "python",
   "name": "python3"
  },
  "language_info": {
   "codemirror_mode": {
    "name": "ipython",
    "version": 2
   },
   "file_extension": ".py",
   "mimetype": "text/x-python",
   "name": "python",
   "nbconvert_exporter": "python",
   "pygments_lexer": "ipython2",
   "version": "2.7.6"
  }
 },
 "nbformat": 4,
 "nbformat_minor": 0
}